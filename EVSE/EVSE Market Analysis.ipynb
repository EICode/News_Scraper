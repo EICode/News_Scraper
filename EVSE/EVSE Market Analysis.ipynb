{
 "cells": [
  {
   "cell_type": "markdown",
   "metadata": {},
   "source": [
    "# EVSE Market Analysis\n",
    "Note: This is run every *Wednesday*, and therefore will not work properly if run on any other day. Therefore, a switch was added so that it can be run using pre-defined datasets that were pulled from the NREL API previously (using this code). **Set the below switch (test_run_switch) to True if running this code without 2 weeks of past data.**"
   ]
  },
  {
   "cell_type": "code",
   "execution_count": 1,
   "metadata": {
    "ExecuteTime": {
     "end_time": "2018-07-05T13:15:42.722978Z",
     "start_time": "2018-07-05T13:15:42.718988Z"
    }
   },
   "outputs": [],
   "source": [
    "test_run_switch = False"
   ]
  },
  {
   "cell_type": "code",
   "execution_count": 2,
   "metadata": {
    "ExecuteTime": {
     "end_time": "2018-07-05T13:15:42.916583Z",
     "start_time": "2018-07-05T13:15:42.908635Z"
    }
   },
   "outputs": [],
   "source": [
    "import requests\n",
    "import datetime as dt\n",
    "import pandas as pd\n",
    "import numpy as np\n",
    "import matplotlib.pyplot as plt\n",
    "import matplotlib.patches as mpatches\n",
    "from matplotlib.ticker import FormatStrFormatter, StrMethodFormatter, MaxNLocator\n",
    "import seaborn as sns\n",
    "import xlsxwriter\n",
    "\n",
    "sns.set(rc={\"figure.figsize\": (12, 9)}, style='ticks', context='talk')"
   ]
  },
  {
   "cell_type": "code",
   "execution_count": 6,
   "metadata": {
    "ExecuteTime": {
     "end_time": "2018-07-05T13:15:47.211063Z",
     "start_time": "2018-07-05T13:15:43.049227Z"
    }
   },
   "outputs": [],
   "source": [
    "data = requests.get('https://developer.nrel.gov/api/alt-fuel-stations/v1.json?access=public&status=E&fuel_type=ELEC&api_key=gICMTaBKdZnvi39aqPrUuye1jmFAaCEMngZYKVTN&format=JSON',\n",
    "                   headers = {'user-agent': 'Mozilla/5.0 (Macintosh; Intel Mac OS X 10_11_6) AppleWebKit/537.36 (KHTML, like Gecko) Chrome/53.0.2785.143 Safari/537.36'})\n",
    "data = data.json()\n",
    "# data = json.loads(data.text)\n",
    "data = pd.DataFrame(data['fuel_stations'])"
   ]
  },
  {
   "cell_type": "markdown",
   "metadata": {},
   "source": [
    "These functions do basic printouts or dataframe manipulations that I didn't want coded 2-3 times"
   ]
  },
  {
   "cell_type": "code",
   "execution_count": 4,
   "metadata": {
    "ExecuteTime": {
     "end_time": "2018-07-05T13:15:47.447282Z",
     "start_time": "2018-07-05T13:15:47.283613Z"
    }
   },
   "outputs": [],
   "source": [
    "def charge_level_summary(df):\n",
    "    evse_counts = df.fillna(0).groupby('State')[['Level 1', 'Level 2', 'DC Fast Charge']].sum()\n",
    "    evse_counts_melt = evse_counts.reset_index().melt(id_vars=['State'], var_name='Charge Level', value_name='Number of plugs')\n",
    "    evse_plot= evse_counts_melt.groupby(['State', 'Charge Level'])['Number of plugs'].sum().unstack(level=1).sort_values('Level 2', ascending=False)[['Level 1', 'Level 2', 'DC Fast Charge']]\n",
    "    tesla_evse = df[(df['EV Network'] == 'Tesla')&(df['DC Fast Charge'] > 0)]\n",
    "    print('Station count (not including private stations):')\n",
    "    print('{} DC Fast Chargers ({} plugs, {} plugs per station)'.format(df['DC Fast Charge'].count(), evse_plot.sum()['DC Fast Charge'].astype(int), (df['DC Fast Charge'].sum()/df['DC Fast Charge'].count()).round(2)))\n",
    "    print('{} Level 2 Chargers ({} plugs, {} plugs per station))'.format(df['Level 2'].count(), evse_plot.sum()['Level 2'].astype(int), (df['Level 2'].sum()/df['Level 2'].count()).round(2)))\n",
    "    print('{} Level 1 Chargers ({} plugs, {} plugs per station))'.format(df['Level 1'].count(), evse_plot.sum()['Level 1'].astype(int), (df['Level 1'].sum()/df['Level 1'].count()).round(2)))\n",
    "    print('{} Tesla Superchargers ({} plugs, {} plugs per station))'.format(tesla_evse.shape[0], tesla_evse['DC Fast Charge'].sum().astype(int), (tesla_evse['DC Fast Charge'].sum()/tesla_evse['DC Fast Charge'].count()).round(2)))\n",
    "    print('{} total plugs'.format(evse_plot.sum()['Level 1'].astype(int)+evse_plot.sum()['Level 2'].astype(int)+evse_plot.sum()['DC Fast Charge'].astype(int)))\n",
    "    print('{} total chargers'.format(df.shape[0]))\n",
    "def plugs_by_state(df, get='plugs'):\n",
    "    if get=='stations':\n",
    "        evse_counts = df.groupby('State')[['Level 1', 'Level 2', 'DC Fast Charge']].count()\n",
    "        return evse_counts\n",
    "    else:\n",
    "        evse_counts = df.fillna(0).groupby('State')[['Level 1', 'Level 2', 'DC Fast Charge']].sum()\n",
    "        return evse_counts"
   ]
  },
  {
   "cell_type": "markdown",
   "metadata": {},
   "source": [
    "Pull in the station count data from the previous 2 weeks for comparison (*_prev_2* and *_prev*), and grab/rename the relevant columns to create this weeks' dataset. Requires previous two weeks of EVSE market data (CSVs)."
   ]
  },
  {
   "cell_type": "code",
   "execution_count": 5,
   "metadata": {
    "ExecuteTime": {
     "end_time": "2018-07-05T13:19:34.867459Z",
     "start_time": "2018-07-05T13:19:34.819362Z"
    },
    "scrolled": true
   },
   "outputs": [],
   "source": [
    "if test_run_switch:\n",
    "    all_stations_prev_2 = pd.read_csv(\"alt_fuel_stations (May 22 2019).csv\")\n",
    "    all_stations_prev = pd.read_csv(\"alt_fuel_stations (June 05 2019).csv\")\n",
    "    all_stations = pd.read_csv(\"alt_fuel_stations (May 22 2019).csv\")\n",
    "else:\n",
    "    all_stations_prev_2 = pd.read_csv(\"alt_fuel_stations ({}).csv\".format((dt.datetime.today() - dt.timedelta(days=14)).strftime(\"%B %d %Y\")))\n",
    "    all_stations_prev = pd.read_csv(\"alt_fuel_stations ({}).csv\".format((dt.datetime.today() - dt.timedelta(days=7)).strftime(\"%B %d %Y\")))\n",
    "    all_stations = data[['state','ev_dc_fast_num','ev_level1_evse_num', 'ev_level2_evse_num','ev_network']].rename(columns={'state':'State',\n",
    "                                        'ev_level1_evse_num':'Level 1', 'ev_level2_evse_num':'Level 2', 'ev_dc_fast_num':'DC Fast Charge',\n",
    "                                        'ev_network':'EV Network'})\n",
    "\n",
    "stations_list = [all_stations_prev_2, all_stations_prev, all_stations]"
   ]
  },
  {
   "cell_type": "markdown",
   "metadata": {},
   "source": [
    "Save this week's dataset to csv."
   ]
  },
  {
   "cell_type": "code",
   "execution_count": 6,
   "metadata": {
    "ExecuteTime": {
     "end_time": "2018-07-05T13:19:51.687623Z",
     "start_time": "2018-07-05T13:19:51.532955Z"
    }
   },
   "outputs": [],
   "source": [
    "if not test_run_switch:\n",
    "    all_stations.to_csv('alt_fuel_stations ({}).csv'.format(dt.datetime.today().strftime(\"%B %d %Y\")))"
   ]
  },
  {
   "cell_type": "markdown",
   "metadata": {},
   "source": [
    "Print out some quick info for comparison (and dummy checking)"
   ]
  },
  {
   "cell_type": "code",
   "execution_count": 7,
   "metadata": {
    "ExecuteTime": {
     "end_time": "2018-07-05T13:19:52.672194Z",
     "start_time": "2018-07-05T13:19:52.599941Z"
    }
   },
   "outputs": [
    {
     "name": "stdout",
     "output_type": "stream",
     "text": [
      "\t Last week\n",
      "Station count (not including private stations):\n",
      "2859 DC Fast Chargers (10967 plugs, 3.84 plugs per station)\n",
      "19724 Level 2 Chargers (52306 plugs, 2.65 plugs per station))\n",
      "797 Level 1 Chargers (1672 plugs, 2.1 plugs per station))\n",
      "635 Tesla Superchargers (5894 plugs, 9.28 plugs per station))\n",
      "64945 total plugs\n",
      "21879 total chargers\n",
      "\n",
      "\tThis week\n",
      "Station count (not including private stations):\n",
      "2875 DC Fast Chargers (11026 plugs, 3.84 plugs per station)\n",
      "19738 Level 2 Chargers (52502 plugs, 2.66 plugs per station))\n",
      "796 Level 1 Chargers (1671 plugs, 2.1 plugs per station))\n",
      "635 Tesla Superchargers (5894 plugs, 9.28 plugs per station))\n",
      "65199 total plugs\n",
      "21906 total chargers\n",
      "\n",
      "27 additional stations since last time\n"
     ]
    }
   ],
   "source": [
    "print('\\t Last week')\n",
    "charge_level_summary(all_stations_prev)\n",
    "print('\\n\\tThis week')\n",
    "charge_level_summary(all_stations)\n",
    "print('\\n{} additional stations since last time'.format(all_stations.shape[0] - all_stations_prev.shape[0]))"
   ]
  },
  {
   "cell_type": "markdown",
   "metadata": {},
   "source": [
    "Generate dataframes that show the change in number of plugs (*delta_plugs*) and stations (*delta_stations*) by state and charge level/speed."
   ]
  },
  {
   "cell_type": "code",
   "execution_count": 8,
   "metadata": {
    "ExecuteTime": {
     "end_time": "2018-07-05T13:19:53.862404Z",
     "start_time": "2018-07-05T13:19:53.813352Z"
    }
   },
   "outputs": [],
   "source": [
    "delta_plugs = ((plugs_by_state(all_stations,'plugs') - plugs_by_state(all_stations_prev,'plugs')).replace(0, np.nan).dropna(how='all', axis=0).fillna('-'))\n",
    "delta_stations = ((plugs_by_state(all_stations,'stations') - plugs_by_state(all_stations_prev,'stations')).replace(0, np.nan).dropna(how='all', axis=0))\n",
    "delta_stations = delta_stations.astype('float').fillna('-')\n",
    "delta_stations.to_csv('{}_deltstation.csv'.format(dt.date.today()))"
   ]
  },
  {
   "cell_type": "markdown",
   "metadata": {},
   "source": [
    "Create a deltstation.xlsx file containing the delta_stations data and apply formatting to deltstation.xlsx file using xlsxwriter."
   ]
  },
  {
   "cell_type": "code",
   "execution_count": 9,
   "metadata": {},
   "outputs": [],
   "source": [
    "# This function basically finds where the data will be written in the Excel sheet (minus index and headers, which is why we start at B2) \n",
    "# based on the length of the dataframe and the number of columns.  Also returns range where index will be written and columns where headers,data, and index will be written.\n",
    "def get_data_range(data):\n",
    "    col_list = list('BCDEFGHIJKLMNOPQRSTUVWXYZ')\n",
    "    # Maps col numbers to letters\n",
    "    col_map = dict(zip([*range(2, len(col_list) + 2)], col_list))\n",
    "    # Cell where formatting ends\n",
    "    end_cell = col_map[len(data.columns) + 1]+str(len(data.index) + 1)\n",
    "    return 'A1:' + end_cell, 'B2:' + end_cell, 'A2:A:' + str(len(data.index) + 1), 'A:' + end_cell[0]\n",
    "\n",
    "entire_range, data_range, index_range, col_range = get_data_range(delta_stations)\n",
    "\n",
    "# Create a Pandas Excel writer using XlsxWriter as the engine.\n",
    "#writer = pd.ExcelWriter('test.xlsx', engine='xlsxwriter')\n",
    "\n",
    "# Convert the dataframe to an XlsxWriter Excel object.\n",
    "# Do not write pandas headers and start writing delta_stations data in row 1 of the xlsx sheet\n",
    "#delta_stations.to_excel(writer, sheet_name='Sheet1', startrow = 1, header = False)\n",
    "\n",
    "# Get the xlsxwriter objects from the dataframe writer object.\n",
    "#workbook  = writer.book\n",
    "#worksheet = writer.sheets['Sheet1']\n",
    "\n",
    "\n",
    "workbook = xlsxwriter.Workbook('{}_deltstation.xlsx'.format(dt.date.today()))\n",
    "worksheet = workbook.add_worksheet()\n",
    "\n",
    "# Set default row height and col width\n",
    "worksheet.set_default_row(20)\n",
    "worksheet.set_column(col_range, 10)\n",
    "\n",
    "# Make headers a bit more padded.\n",
    "worksheet.set_row(0, 35)\n",
    "\n",
    "# Crate a format for the headers\n",
    "header_format = workbook.add_format({\n",
    "    'text_wrap': True,\n",
    "    'valign': 'vcenter',\n",
    "    'align': 'center',\n",
    "    'border': 1})\n",
    "\n",
    "index_format = workbook.add_format({\n",
    "    'valign': 'vcenter',\n",
    "    'border': 1})\n",
    "\n",
    "data_format =  workbook.add_format({\n",
    "    'valign': 'vcenter',\n",
    "    'align': 'center',\n",
    "    'border': 1})\n",
    "\n",
    "plain_border = workbook.add_format({\n",
    "    'border':1\n",
    "})\n",
    "\n",
    "# Set formats for increases and decreases in stations.  For increases, format will be green fill with dark green text. \n",
    "# For decreases, red fill with dark red text. Cells where there is neither increase nor decrease will have black text and white fill.\n",
    "increase_in_stations_format = workbook.add_format({'bg_color': '#C6EFCE',\n",
    "                               'font_color': '#006100',\n",
    "                               'border': 1,\n",
    "                               'align': 'center',\n",
    "                               'valign': 'vcenter'})\n",
    "decrease_in_stations_format = workbook.add_format({'bg_color': '#FFC7CE',\n",
    "                               'font_color': '#9C0006',\n",
    "                               'border': 1,\n",
    "                               'align': 'center',\n",
    "                               'valign': 'vcenter'})\n",
    "neither_format = workbook.add_format({'bg_color': '#ffffff',\n",
    "                               'font_color': '#000000',\n",
    "                               'border': 1,\n",
    "                               'align': 'center',\n",
    "                               'valign': 'vcenter'})\n",
    "\n",
    "# Write the column headers with the defined header_format.  Column headers will start in cell B1.\n",
    "worksheet.write_row('B1', list(delta_stations.columns.values), header_format)\n",
    "    \n",
    "# Write the index with the defined index_format. The index will start in cell A2.\n",
    "worksheet.write_column('A2', list(delta_stations.index.values), index_format)\n",
    "\n",
    "\n",
    "# Reformat the delta_stations data into a list of lists (where each list is a dataframe row) so that each list can be written as a row in excel using \n",
    "# xlsxwriter.  Need to use this method instad of pd.to_excel(..., engine = 'xlsxwriter') because formatting (i.e., centering) is not supported with \n",
    "# pd.to_excel(). Alignment is one of the only types of formatting that MUST be applied as the data is written -- cannot be applied afterwards using \n",
    "# conditional_format().\n",
    "delta_stations_f = []\n",
    "for i in range(len(delta_stations)):\n",
    "    delta_stations_f.append(list(delta_stations.iloc[i]))\n",
    "\n",
    "# Write the rows to excel using the data_format.\n",
    "for i in range(2, len(delta_stations)+ 2):\n",
    "    worksheet.write_row('B'+ str(i), delta_stations_f[i-2], data_format)\n",
    "    \n",
    "# Format the data.  Add borders and conditional formatting.\n",
    "worksheet.conditional_format(entire_range, {'type': 'blanks', 'format': plain_border})\n",
    "worksheet.conditional_format(entire_range, {'type': 'no_blanks', 'format': plain_border})\n",
    "worksheet.conditional_format(data_range, {'type': 'cell', 'criteria':'equal to', 'value': '\"-\"', 'format': neither_format})\n",
    "worksheet.conditional_format(data_range, {'type': 'cell', 'criteria': '>', 'value': 0, 'format': increase_in_stations_format})\n",
    "worksheet.conditional_format(data_range, {'type': 'cell', 'criteria': '<', 'value': 0, 'format': decrease_in_stations_format})\n",
    "\n",
    "# Close and save workbook.\n",
    "workbook.close()"
   ]
  },
  {
   "cell_type": "markdown",
   "metadata": {},
   "source": [
    "Generate the station count dataframes that are used for plotting"
   ]
  },
  {
   "cell_type": "code",
   "execution_count": 10,
   "metadata": {
    "ExecuteTime": {
     "end_time": "2018-07-05T13:19:54.474752Z",
     "start_time": "2018-07-05T13:19:54.445802Z"
    }
   },
   "outputs": [],
   "source": [
    "evse_counts = all_stations.fillna(0).groupby('State')[['Level 1', 'Level 2', 'DC Fast Charge']].sum()\n",
    "evse_counts_melt = evse_counts.reset_index().melt(id_vars=['State'], var_name='Charge Level', value_name='Number of plugs')\n",
    "evse_counts_melt = evse_counts_melt[~evse_counts_melt['State'].isin(['Puerto Rico'])]\n",
    "evse_plot= evse_counts_melt.groupby(['State', 'Charge Level'])['Number of plugs'].sum().unstack(level=1).sort_values('Level 2', ascending=False)[['Level 1', 'Level 2', 'DC Fast Charge']]"
   ]
  },
  {
   "cell_type": "markdown",
   "metadata": {},
   "source": [
    "Generate the plug count dataframes (basically only used for the CA shares calculated in the next cell . . . )"
   ]
  },
  {
   "cell_type": "code",
   "execution_count": 11,
   "metadata": {
    "ExecuteTime": {
     "end_time": "2018-07-05T13:19:55.165699Z",
     "start_time": "2018-07-05T13:19:55.148745Z"
    }
   },
   "outputs": [],
   "source": [
    "plugs_by_state = evse_counts_melt.groupby('State')['Number of plugs'].sum()\n",
    "state_shares = (evse_counts_melt.groupby(['State', 'Charge Level'])['Number of plugs'].sum().unstack(level=1)/evse_counts_melt.groupby(['State', 'Charge Level'])['Number of plugs'].sum().unstack(level=1).sum())*100\n",
    "state_counts = evse_counts_melt.groupby(['State', 'Charge Level'])['Number of plugs'].sum().unstack(level=1).sort_values('Level 2', ascending=False)"
   ]
  },
  {
   "cell_type": "markdown",
   "metadata": {},
   "source": [
    "Print out the CA shares that are directly copy/pasted into the caption for the EVSE figure in the AFV News Update doc."
   ]
  },
  {
   "cell_type": "code",
   "execution_count": 12,
   "metadata": {
    "ExecuteTime": {
     "end_time": "2018-07-05T13:19:56.329501Z",
     "start_time": "2018-07-05T13:19:56.321471Z"
    },
    "scrolled": true
   },
   "outputs": [
    {
     "name": "stdout",
     "output_type": "stream",
     "text": [
      "CA Shares (plug counts):\n",
      "22.0% (367), 32.8% (17219), and 27.9% (3072)\n"
     ]
    }
   ],
   "source": [
    "print('CA Shares (plug counts):')\n",
    "ca_shares_str = \"{:.1f}% ({}), {:.1f}% ({}), and {:.1f}% ({})\".format(state_shares.loc['CA',:]['Level 1'],int(state_counts.loc['CA',:]['Level 1']),\n",
    "                                                    state_shares.loc['CA',:]['Level 2'],int(state_counts.loc['CA',:]['Level 2']),\n",
    "                                                    state_shares.loc['CA',:]['DC Fast Charge'],int(state_counts.loc['CA',:]['DC Fast Charge']))\n",
    "print(ca_shares_str)\n",
    "\n",
    "try:\n",
    "    ca_shares = pd.read_csv('all_CA_shares.csv', ';')[['date', 'text']].set_index('date', drop = True)\n",
    "    ca_shares.loc[str(dt.date.today())] = ca_shares_str\n",
    "    ca_shares.to_csv('all_CA_shares.csv', ';')\n",
    "except FileNotFoundError:\n",
    "    ca_shares = pd.DataFrame({'date':[str(dt.date.today())], 'text': [ca_shares_str]})\n",
    "    ca_shares.to_csv('all_CA_shares.csv', ';')"
   ]
  },
  {
   "cell_type": "code",
   "execution_count": 17,
   "metadata": {},
   "outputs": [
    {
     "data": {
      "text/html": [
       "<div>\n",
       "<style scoped>\n",
       "    .dataframe tbody tr th:only-of-type {\n",
       "        vertical-align: middle;\n",
       "    }\n",
       "\n",
       "    .dataframe tbody tr th {\n",
       "        vertical-align: top;\n",
       "    }\n",
       "\n",
       "    .dataframe thead th {\n",
       "        text-align: right;\n",
       "    }\n",
       "</style>\n",
       "<table border=\"1\" class=\"dataframe\">\n",
       "  <thead>\n",
       "    <tr style=\"text-align: right;\">\n",
       "      <th></th>\n",
       "      <th>State</th>\n",
       "      <th>Charge Level</th>\n",
       "      <th>Number of plugs</th>\n",
       "    </tr>\n",
       "  </thead>\n",
       "  <tbody>\n",
       "    <tr>\n",
       "      <th>119</th>\n",
       "      <td>FL</td>\n",
       "      <td>DC Fast Charge</td>\n",
       "      <td>592.0</td>\n",
       "    </tr>\n",
       "    <tr>\n",
       "      <th>154</th>\n",
       "      <td>TX</td>\n",
       "      <td>DC Fast Charge</td>\n",
       "      <td>568.0</td>\n",
       "    </tr>\n",
       "    <tr>\n",
       "      <th>144</th>\n",
       "      <td>NY</td>\n",
       "      <td>DC Fast Charge</td>\n",
       "      <td>413.0</td>\n",
       "    </tr>\n",
       "    <tr>\n",
       "      <th>158</th>\n",
       "      <td>WA</td>\n",
       "      <td>DC Fast Charge</td>\n",
       "      <td>383.0</td>\n",
       "    </tr>\n",
       "    <tr>\n",
       "      <th>120</th>\n",
       "      <td>GA</td>\n",
       "      <td>DC Fast Charge</td>\n",
       "      <td>330.0</td>\n",
       "    </tr>\n",
       "    <tr>\n",
       "      <th>130</th>\n",
       "      <td>MD</td>\n",
       "      <td>DC Fast Charge</td>\n",
       "      <td>307.0</td>\n",
       "    </tr>\n",
       "    <tr>\n",
       "      <th>147</th>\n",
       "      <td>OR</td>\n",
       "      <td>DC Fast Charge</td>\n",
       "      <td>296.0</td>\n",
       "    </tr>\n",
       "    <tr>\n",
       "      <th>156</th>\n",
       "      <td>VA</td>\n",
       "      <td>DC Fast Charge</td>\n",
       "      <td>294.0</td>\n",
       "    </tr>\n",
       "    <tr>\n",
       "      <th>124</th>\n",
       "      <td>IL</td>\n",
       "      <td>DC Fast Charge</td>\n",
       "      <td>278.0</td>\n",
       "    </tr>\n",
       "    <tr>\n",
       "      <th>145</th>\n",
       "      <td>OH</td>\n",
       "      <td>DC Fast Charge</td>\n",
       "      <td>278.0</td>\n",
       "    </tr>\n",
       "    <tr>\n",
       "      <th>141</th>\n",
       "      <td>NJ</td>\n",
       "      <td>DC Fast Charge</td>\n",
       "      <td>261.0</td>\n",
       "    </tr>\n",
       "    <tr>\n",
       "      <th>112</th>\n",
       "      <td>AZ</td>\n",
       "      <td>DC Fast Charge</td>\n",
       "      <td>260.0</td>\n",
       "    </tr>\n",
       "    <tr>\n",
       "      <th>129</th>\n",
       "      <td>MA</td>\n",
       "      <td>DC Fast Charge</td>\n",
       "      <td>248.0</td>\n",
       "    </tr>\n",
       "    <tr>\n",
       "      <th>115</th>\n",
       "      <td>CO</td>\n",
       "      <td>DC Fast Charge</td>\n",
       "      <td>242.0</td>\n",
       "    </tr>\n",
       "    <tr>\n",
       "      <th>137</th>\n",
       "      <td>NC</td>\n",
       "      <td>DC Fast Charge</td>\n",
       "      <td>240.0</td>\n",
       "    </tr>\n",
       "    <tr>\n",
       "      <th>148</th>\n",
       "      <td>PA</td>\n",
       "      <td>DC Fast Charge</td>\n",
       "      <td>233.0</td>\n",
       "    </tr>\n",
       "    <tr>\n",
       "      <th>132</th>\n",
       "      <td>MI</td>\n",
       "      <td>DC Fast Charge</td>\n",
       "      <td>197.0</td>\n",
       "    </tr>\n",
       "    <tr>\n",
       "      <th>143</th>\n",
       "      <td>NV</td>\n",
       "      <td>DC Fast Charge</td>\n",
       "      <td>179.0</td>\n",
       "    </tr>\n",
       "    <tr>\n",
       "      <th>134</th>\n",
       "      <td>MO</td>\n",
       "      <td>DC Fast Charge</td>\n",
       "      <td>167.0</td>\n",
       "    </tr>\n",
       "    <tr>\n",
       "      <th>153</th>\n",
       "      <td>TN</td>\n",
       "      <td>DC Fast Charge</td>\n",
       "      <td>167.0</td>\n",
       "    </tr>\n",
       "    <tr>\n",
       "      <th>116</th>\n",
       "      <td>CT</td>\n",
       "      <td>DC Fast Charge</td>\n",
       "      <td>160.0</td>\n",
       "    </tr>\n",
       "    <tr>\n",
       "      <th>125</th>\n",
       "      <td>IN</td>\n",
       "      <td>DC Fast Charge</td>\n",
       "      <td>154.0</td>\n",
       "    </tr>\n",
       "    <tr>\n",
       "      <th>155</th>\n",
       "      <td>UT</td>\n",
       "      <td>DC Fast Charge</td>\n",
       "      <td>132.0</td>\n",
       "    </tr>\n",
       "    <tr>\n",
       "      <th>159</th>\n",
       "      <td>WI</td>\n",
       "      <td>DC Fast Charge</td>\n",
       "      <td>120.0</td>\n",
       "    </tr>\n",
       "    <tr>\n",
       "      <th>133</th>\n",
       "      <td>MN</td>\n",
       "      <td>DC Fast Charge</td>\n",
       "      <td>113.0</td>\n",
       "    </tr>\n",
       "    <tr>\n",
       "      <th>151</th>\n",
       "      <td>SC</td>\n",
       "      <td>DC Fast Charge</td>\n",
       "      <td>101.0</td>\n",
       "    </tr>\n",
       "    <tr>\n",
       "      <th>142</th>\n",
       "      <td>NM</td>\n",
       "      <td>DC Fast Charge</td>\n",
       "      <td>88.0</td>\n",
       "    </tr>\n",
       "    <tr>\n",
       "      <th>121</th>\n",
       "      <td>HI</td>\n",
       "      <td>DC Fast Charge</td>\n",
       "      <td>83.0</td>\n",
       "    </tr>\n",
       "    <tr>\n",
       "      <th>126</th>\n",
       "      <td>KS</td>\n",
       "      <td>DC Fast Charge</td>\n",
       "      <td>76.0</td>\n",
       "    </tr>\n",
       "    <tr>\n",
       "      <th>122</th>\n",
       "      <td>IA</td>\n",
       "      <td>DC Fast Charge</td>\n",
       "      <td>76.0</td>\n",
       "    </tr>\n",
       "    <tr>\n",
       "      <th>146</th>\n",
       "      <td>OK</td>\n",
       "      <td>DC Fast Charge</td>\n",
       "      <td>67.0</td>\n",
       "    </tr>\n",
       "    <tr>\n",
       "      <th>123</th>\n",
       "      <td>ID</td>\n",
       "      <td>DC Fast Charge</td>\n",
       "      <td>66.0</td>\n",
       "    </tr>\n",
       "    <tr>\n",
       "      <th>161</th>\n",
       "      <td>WY</td>\n",
       "      <td>DC Fast Charge</td>\n",
       "      <td>64.0</td>\n",
       "    </tr>\n",
       "    <tr>\n",
       "      <th>110</th>\n",
       "      <td>AL</td>\n",
       "      <td>DC Fast Charge</td>\n",
       "      <td>64.0</td>\n",
       "    </tr>\n",
       "    <tr>\n",
       "      <th>139</th>\n",
       "      <td>NE</td>\n",
       "      <td>DC Fast Charge</td>\n",
       "      <td>62.0</td>\n",
       "    </tr>\n",
       "    <tr>\n",
       "      <th>160</th>\n",
       "      <td>WV</td>\n",
       "      <td>DC Fast Charge</td>\n",
       "      <td>60.0</td>\n",
       "    </tr>\n",
       "    <tr>\n",
       "      <th>128</th>\n",
       "      <td>LA</td>\n",
       "      <td>DC Fast Charge</td>\n",
       "      <td>59.0</td>\n",
       "    </tr>\n",
       "    <tr>\n",
       "      <th>118</th>\n",
       "      <td>DE</td>\n",
       "      <td>DC Fast Charge</td>\n",
       "      <td>59.0</td>\n",
       "    </tr>\n",
       "    <tr>\n",
       "      <th>157</th>\n",
       "      <td>VT</td>\n",
       "      <td>DC Fast Charge</td>\n",
       "      <td>58.0</td>\n",
       "    </tr>\n",
       "    <tr>\n",
       "      <th>127</th>\n",
       "      <td>KY</td>\n",
       "      <td>DC Fast Charge</td>\n",
       "      <td>58.0</td>\n",
       "    </tr>\n",
       "    <tr>\n",
       "      <th>131</th>\n",
       "      <td>ME</td>\n",
       "      <td>DC Fast Charge</td>\n",
       "      <td>56.0</td>\n",
       "    </tr>\n",
       "    <tr>\n",
       "      <th>136</th>\n",
       "      <td>MT</td>\n",
       "      <td>DC Fast Charge</td>\n",
       "      <td>55.0</td>\n",
       "    </tr>\n",
       "    <tr>\n",
       "      <th>140</th>\n",
       "      <td>NH</td>\n",
       "      <td>DC Fast Charge</td>\n",
       "      <td>48.0</td>\n",
       "    </tr>\n",
       "    <tr>\n",
       "      <th>152</th>\n",
       "      <td>SD</td>\n",
       "      <td>DC Fast Charge</td>\n",
       "      <td>44.0</td>\n",
       "    </tr>\n",
       "    <tr>\n",
       "      <th>135</th>\n",
       "      <td>MS</td>\n",
       "      <td>DC Fast Charge</td>\n",
       "      <td>39.0</td>\n",
       "    </tr>\n",
       "    <tr>\n",
       "      <th>111</th>\n",
       "      <td>AR</td>\n",
       "      <td>DC Fast Charge</td>\n",
       "      <td>35.0</td>\n",
       "    </tr>\n",
       "    <tr>\n",
       "      <th>150</th>\n",
       "      <td>RI</td>\n",
       "      <td>DC Fast Charge</td>\n",
       "      <td>20.0</td>\n",
       "    </tr>\n",
       "    <tr>\n",
       "      <th>109</th>\n",
       "      <td>AK</td>\n",
       "      <td>DC Fast Charge</td>\n",
       "      <td>2.0</td>\n",
       "    </tr>\n",
       "    <tr>\n",
       "      <th>117</th>\n",
       "      <td>DC</td>\n",
       "      <td>DC Fast Charge</td>\n",
       "      <td>2.0</td>\n",
       "    </tr>\n",
       "    <tr>\n",
       "      <th>138</th>\n",
       "      <td>ND</td>\n",
       "      <td>DC Fast Charge</td>\n",
       "      <td>0.0</td>\n",
       "    </tr>\n",
       "    <tr>\n",
       "      <th>113</th>\n",
       "      <td>American Samoa</td>\n",
       "      <td>DC Fast Charge</td>\n",
       "      <td>0.0</td>\n",
       "    </tr>\n",
       "    <tr>\n",
       "      <th>108</th>\n",
       "      <td>0</td>\n",
       "      <td>DC Fast Charge</td>\n",
       "      <td>0.0</td>\n",
       "    </tr>\n",
       "  </tbody>\n",
       "</table>\n",
       "</div>"
      ],
      "text/plain": [
       "              State    Charge Level  Number of plugs\n",
       "119              FL  DC Fast Charge            592.0\n",
       "154              TX  DC Fast Charge            568.0\n",
       "144              NY  DC Fast Charge            413.0\n",
       "158              WA  DC Fast Charge            383.0\n",
       "120              GA  DC Fast Charge            330.0\n",
       "130              MD  DC Fast Charge            307.0\n",
       "147              OR  DC Fast Charge            296.0\n",
       "156              VA  DC Fast Charge            294.0\n",
       "124              IL  DC Fast Charge            278.0\n",
       "145              OH  DC Fast Charge            278.0\n",
       "141              NJ  DC Fast Charge            261.0\n",
       "112              AZ  DC Fast Charge            260.0\n",
       "129              MA  DC Fast Charge            248.0\n",
       "115              CO  DC Fast Charge            242.0\n",
       "137              NC  DC Fast Charge            240.0\n",
       "148              PA  DC Fast Charge            233.0\n",
       "132              MI  DC Fast Charge            197.0\n",
       "143              NV  DC Fast Charge            179.0\n",
       "134              MO  DC Fast Charge            167.0\n",
       "153              TN  DC Fast Charge            167.0\n",
       "116              CT  DC Fast Charge            160.0\n",
       "125              IN  DC Fast Charge            154.0\n",
       "155              UT  DC Fast Charge            132.0\n",
       "159              WI  DC Fast Charge            120.0\n",
       "133              MN  DC Fast Charge            113.0\n",
       "151              SC  DC Fast Charge            101.0\n",
       "142              NM  DC Fast Charge             88.0\n",
       "121              HI  DC Fast Charge             83.0\n",
       "126              KS  DC Fast Charge             76.0\n",
       "122              IA  DC Fast Charge             76.0\n",
       "146              OK  DC Fast Charge             67.0\n",
       "123              ID  DC Fast Charge             66.0\n",
       "161              WY  DC Fast Charge             64.0\n",
       "110              AL  DC Fast Charge             64.0\n",
       "139              NE  DC Fast Charge             62.0\n",
       "160              WV  DC Fast Charge             60.0\n",
       "128              LA  DC Fast Charge             59.0\n",
       "118              DE  DC Fast Charge             59.0\n",
       "157              VT  DC Fast Charge             58.0\n",
       "127              KY  DC Fast Charge             58.0\n",
       "131              ME  DC Fast Charge             56.0\n",
       "136              MT  DC Fast Charge             55.0\n",
       "140              NH  DC Fast Charge             48.0\n",
       "152              SD  DC Fast Charge             44.0\n",
       "135              MS  DC Fast Charge             39.0\n",
       "111              AR  DC Fast Charge             35.0\n",
       "150              RI  DC Fast Charge             20.0\n",
       "109              AK  DC Fast Charge              2.0\n",
       "117              DC  DC Fast Charge              2.0\n",
       "138              ND  DC Fast Charge              0.0\n",
       "113  American Samoa  DC Fast Charge              0.0\n",
       "108               0  DC Fast Charge              0.0"
      ]
     },
     "execution_count": 17,
     "metadata": {},
     "output_type": "execute_result"
    }
   ],
   "source": [
    "evse_counts_melt[(evse_counts_melt['State']!='CA') & (evse_counts_melt['Charge Level']=='DC Fast Charge')].sort_values('Number of plugs', ascending=False)"
   ]
  },
  {
   "cell_type": "code",
   "execution_count": 23,
   "metadata": {
    "ExecuteTime": {
     "end_time": "2018-07-05T13:19:59.634550Z",
     "start_time": "2018-07-05T13:19:57.006201Z"
    },
    "scrolled": true
   },
   "outputs": [
    {
     "data": {
      "image/png": "[encoded data removed]",
      "text/plain": [
       "<Figure size 907.2x1008 with 3 Axes>"
      ]
     },
     "metadata": {},
     "output_type": "display_data"
    }
   ],
   "source": [
    "sns.set_style('ticks')\n",
    "g = sns.catplot(x='Number of plugs', y='State', col='Charge Level', data=evse_counts_melt[evse_counts_melt['State']!='CA'].sort_values('Number of plugs', ascending=False), \n",
    "               col_order=['Level 1', 'Level 2', 'DC Fast Charge'], kind='bar', aspect=0.3, height=14, \n",
    "                   palette=sns.cubehelix_palette(52, start=2, rot=0, dark=0, light=.7, reverse=True), sharey = False, sharex=False)\n",
    "g.set_titles('{col_name}')\n",
    "for axis in g.axes[0]:\n",
    "    axis.xaxis.set_major_locator(MaxNLocator(prune='both'))\n",
    "    axis.locator_params(axis='x', nbins=5)\n",
    "    axis.grid(axis='both')\n",
    "g.axes[0][0].set_xlabel('')\n",
    "g.axes[0][1].set_xlabel('Number of plugs', labelpad=15)\n",
    "g.axes[0][2].set_xlabel('')\n",
    "g.axes[0][1].set_yticklabels('')\n",
    "g.axes[0][2].set_yticklabels('')\n",
    "plt.subplots_adjust(wspace=0.01)\n",
    "plt.suptitle('Number of EVSE plugs by state as of {} (not incl. CA)'.format(dt.date.today()), fontsize=18, y=1.02)\n",
    "plt.savefig(f'EVSE_bar_chart_{str(dt.date.today())}') # Must match news scraper format\n",
    "plt.show()"
   ]
  },
  {
   "cell_type": "markdown",
   "metadata": {},
   "source": [
    "### Notes:\n",
    "* For the **requests** package: https://stackoverflow.com/questions/25067580/passing-web-data-into-beautiful-soup-empty-list\n",
    "* BeautifulSoup documentation: https://www.crummy.com/software/BeautifulSoup/bs4/doc/\n",
    "* NREL API: https://developer.nrel.gov/docs/transportation/alt-fuel-stations-v1/all/\n",
    "* strftime reference: http://strftime.org/"
   ]
  },
  {
   "cell_type": "code",
   "execution_count": null,
   "metadata": {},
   "outputs": [],
   "source": []
  }
 ],
 "metadata": {
  "kernelspec": {
   "display_name": "Python 3",
   "language": "python",
   "name": "python3"
  },
  "language_info": {
   "codemirror_mode": {
    "name": "ipython",
    "version": 3
   },
   "file_extension": ".py",
   "mimetype": "text/x-python",
   "name": "python",
   "nbconvert_exporter": "python",
   "pygments_lexer": "ipython3",
   "version": "3.7.1"
  },
  "varInspector": {
   "cols": {
    "lenName": 16,
    "lenType": 16,
    "lenVar": 40
   },
   "kernels_config": {
    "python": {
     "delete_cmd_postfix": "",
     "delete_cmd_prefix": "del ",
     "library": "var_list.py",
     "varRefreshCmd": "print(var_dic_list())"
    },
    "r": {
     "delete_cmd_postfix": ") ",
     "delete_cmd_prefix": "rm(",
     "library": "var_list.r",
     "varRefreshCmd": "cat(var_dic_list()) "
    }
   },
   "types_to_exclude": [
    "module",
    "function",
    "builtin_function_or_method",
    "instance",
    "_Feature"
   ],
   "window_display": false
  }
 },
 "nbformat": 4,
 "nbformat_minor": 4
}
